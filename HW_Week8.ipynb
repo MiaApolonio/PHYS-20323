{
 "cells": [
  {
   "cell_type": "markdown",
   "metadata": {},
   "source": [
    "# PHYS 20323/60323 Homework Week 8\n",
    "\n",
    "FALL 2022\n"
   ]
  },
  {
   "cell_type": "markdown",
   "metadata": {},
   "source": [
    "### 1) Altitude of a satellite\n",
    "\n",
    "A satellite is to be launched into a circular orbit around the Earth so that it orbits the planet once every T seconds.\n",
    "\n",
    "The altitude h above the Earth’s surface that the satellite must have is:\n",
    "\n",
    "$$h = \\left( \\frac{G M T^2}{4\\pi^2} \\right)^{1/3} - R$$\n",
    "\n",
    "where $G = 6.67 \\times 10^{-11}$ m$^3$ kg$^{-1}$ s$^{-2}$\n",
    "is Newton's gravitational constant, $M = 5.97 \\times 10^{24}$ kg is the mass of the Earth, and $R = 6371$ km is its radius.\n",
    "\n",
    "#### Write a program that asks the user to enter the desired value of T and then calculates and prints out the correct altitude in meters.\n"
   ]
  },
  {
   "cell_type": "code",
   "execution_count": 109,
   "metadata": {},
   "outputs": [
    {
     "name": "stdout",
     "output_type": "stream",
     "text": [
      "Time in seconds:2\n",
      "1310022200963422.5\n"
     ]
    }
   ],
   "source": [
    "T = float(input(\"Time in seconds:\" ))\n",
    "\n",
    "G = 6.67 * 10**-11\n",
    "M = 5.97 * 10**24\n",
    "R = 6371\n",
    "h = ((G*M*(T**2)/4*math.pi**2)**1/3)- R \n",
    "print (h)"
   ]
  },
  {
   "cell_type": "markdown",
   "metadata": {},
   "source": [
    "Use your program to calculate the altitudes of satellites that orbit the Earth once\n",
    "a day (so-called “geosynchronous” orbit), once every 90 minutes, and once every\n",
    "45 minutes. What do you conclude from the last of these calculations?\n",
    "\n",
    "\n",
    "\n"
   ]
  },
  {
   "cell_type": "code",
   "execution_count": 112,
   "metadata": {},
   "outputs": [
    {
     "name": "stdout",
     "output_type": "stream",
     "text": [
      "Time in seconds:5400\n",
      "9.550061845069794e+21\n"
     ]
    }
   ],
   "source": [
    "T = float(input(\"Time in seconds:\" ))\n",
    "\n",
    "G = 6.67 * 10**-11\n",
    "M = 5.97 * 10**24\n",
    "R = 6371\n",
    "h = ((G*M*(T**2)/4*math.pi**2)**1/3)- R \n",
    "print (h)"
   ]
  },
  {
   "cell_type": "code",
   "execution_count": 113,
   "metadata": {},
   "outputs": [
    {
     "name": "stdout",
     "output_type": "stream",
     "text": [
      "Time in seconds:2700\n",
      "2.3875154612674484e+21\n"
     ]
    }
   ],
   "source": [
    "T = float(input(\"Time in seconds:\" ))\n",
    "\n",
    "G = 6.67 * 10**-11\n",
    "M = 5.97 * 10**24\n",
    "R = 6371\n",
    "h = ((G*M*(T**2)/4*math.pi**2)**1/3)- R\n",
    "print (h)"
   ]
  },
  {
   "cell_type": "markdown",
   "metadata": {},
   "source": [
    "Technically a geosynchronous satellite is one that orbits the Earth once persidereal\n",
    "day, which is 23.93 hours, not 24 hours. Why is this? And how much difference\n",
    "will it make to the altitude of the satellite?"
   ]
  },
  {
   "cell_type": "code",
   "execution_count": 114,
   "metadata": {},
   "outputs": [
    {
     "name": "stdout",
     "output_type": "stream",
     "text": [
      "Time in seconds:86148\n",
      "2.4305752045616927e+24\n"
     ]
    }
   ],
   "source": [
    "T = float(input(\"Time in seconds:\" ))\n",
    "\n",
    "G = 6.67 * 10**-11\n",
    "M = 5.97 * 10**24\n",
    "R = 6371\n",
    "h = ((G*M*(T**2)/4*math.pi**2)**1/3)- R\n",
    "print (h)"
   ]
  },
  {
   "cell_type": "markdown",
   "metadata": {},
   "source": [
    "### 2) Special Relativity\n",
    "\n",
    "A spaceship travels from Earth in a straight line at a (relativistic)\n",
    "speed $v$ to another planet $x$ light years away. Write a program to ask\n",
    "the user for the value of $x$ and the speed $v$ as a fraction of the speed\n",
    "of light, then print out the time in years that the spaceship takes to\n",
    "reach its destination (a) in the rest frame of an observer on Earth\n",
    "and (b) as perceived by a passenger on board the ship.\n",
    "\n",
    "$$x' = \\gamma (x - vt)$$\n",
    "\n",
    "$$t' = \\gamma \\left(t - \\frac{v x}{c^2}\\right)$$\n",
    "\n",
    "$$\\gamma = \\frac{1}{\\sqrt{1 - \\frac{v^2}{c^2}}}$$\n"
   ]
  },
  {
   "cell_type": "code",
   "execution_count": 69,
   "metadata": {},
   "outputs": [
    {
     "name": "stdout",
     "output_type": "stream",
     "text": [
      "Distance in light years: 4\n",
      "Speed as a fraction of the speed of light: 5\n",
      "Time in seconds: 1\n",
      "1.0000000000000002\n",
      "-1.0000000000000002\n",
      "1.0\n"
     ]
    }
   ],
   "source": [
    "from scipy.constants import speed_of_light\n",
    "x = float (input(\"Distance in light years: \"))\n",
    "v = float (input (\"Speed as a fraction of the speed of light: \"))\n",
    "t = float (input (\"Time in seconds: \"))\n",
    "\n",
    "c = speed_of_light\n",
    "math.gamma = (1)/math.sqrt(1-(v**2/c**2))\n",
    "print (math.gamma)\n",
    "\n",
    "X = math.gamma*(x-v*t)\n",
    "print (X)\n",
    "\n",
    "T = math.gamma*(t-((v*x)/(c**2)))\n",
    "print (T)"
   ]
  },
  {
   "cell_type": "markdown",
   "metadata": {},
   "source": [
    "#### Use your program to calculate the answers for a planet 10 light years away with $v = 0.90c$,  $v = 0.98c$, $v = 0.999c$."
   ]
  },
  {
   "cell_type": "code",
   "execution_count": 73,
   "metadata": {},
   "outputs": [
    {
     "name": "stdout",
     "output_type": "stream",
     "text": [
      "Time in seconds: 2\n",
      "2.294157338705617\n",
      "-1237987898.7551584\n",
      "4.588314608538868\n"
     ]
    }
   ],
   "source": [
    "from scipy.constants import speed_of_light\n",
    "t = float (input (\"Time in seconds: \"))\n",
    "\n",
    "c = speed_of_light\n",
    "v = (0.90)*c\n",
    "x = 10\n",
    "math.gamma = (1)/math.sqrt(1-(v**2/c**2))\n",
    "print (math.gamma)\n",
    "\n",
    "X = math.gamma*(x-v*t)\n",
    "print (X)\n",
    "\n",
    "T = math.gamma*(t-((v*x)/(c**2)))\n",
    "print (T)"
   ]
  },
  {
   "cell_type": "code",
   "execution_count": 74,
   "metadata": {},
   "outputs": [
    {
     "name": "stdout",
     "output_type": "stream",
     "text": [
      "Time in seconds: 2\n",
      "5.025189076296055\n",
      "-2952766968.5392947\n",
      "10.05037798832229\n"
     ]
    }
   ],
   "source": [
    "from scipy.constants import speed_of_light\n",
    "t = float (input (\"Time in seconds: \"))\n",
    "\n",
    "c = speed_of_light\n",
    "v = (0.98)*c\n",
    "x = 10\n",
    "math.gamma = (1)/math.sqrt(1-(v**2/c**2))\n",
    "print (math.gamma)\n",
    "\n",
    "X = math.gamma*(x-v*t)\n",
    "print (X)\n",
    "\n",
    "T = math.gamma*(t-((v*x)/(c**2)))\n",
    "print (T)"
   ]
  },
  {
   "cell_type": "code",
   "execution_count": 75,
   "metadata": {},
   "outputs": [
    {
     "name": "stdout",
     "output_type": "stream",
     "text": [
      "Time in seconds: 2\n",
      "22.36627204212937\n",
      "-13397068640.606953\n",
      "44.732543338946265\n"
     ]
    }
   ],
   "source": [
    "from scipy.constants import speed_of_light\n",
    "t = float (input (\"Time in seconds: \"))\n",
    "\n",
    "c = speed_of_light\n",
    "v = (0.999)*c\n",
    "x = 10\n",
    "math.gamma = (1)/math.sqrt(1-(v**2/c**2))\n",
    "print (math.gamma)\n",
    "\n",
    "X = math.gamma*(x-v*t)\n",
    "print (X)\n",
    "\n",
    "T = math.gamma*(t-((v*x)/(c**2)))\n",
    "print (T)"
   ]
  },
  {
   "cell_type": "markdown",
   "metadata": {},
   "source": [
    "### 3) The quadratic equation\n",
    "\n",
    " Write a program that takes as input three numbers, $a$, $b$, and $c$, and prints out the two solutions to the quadratic equation $ax^2 + bx + c = 0$ using the standard\n",
    "formula:\n",
    "\n",
    "$$x = \\frac{-b \\pm \\sqrt{b^2 - 4ac}}{2a}$$\n",
    "\n",
    "Use your program to compute the solutions of $0.001x^2 + 1000x + 0.001 = 0$."
   ]
  },
  {
   "cell_type": "code",
   "execution_count": 94,
   "metadata": {},
   "outputs": [
    {
     "name": "stdout",
     "output_type": "stream",
     "text": [
      "Number: .001\n",
      "Number: 1000\n",
      "Number: .001\n",
      "-9.999894245993346e-07\n"
     ]
    }
   ],
   "source": [
    "import numpy as np\n",
    "a = float(input(\"Number: \"))\n",
    "b = float(input(\"Number: \"))\n",
    "c = float(input(\"Number: \"))\n",
    "\n",
    "x = ((-b)+(np.sqrt((b**2)-(4*a*c))))/(2*a)\n",
    "print (x)"
   ]
  },
  {
   "cell_type": "code",
   "execution_count": 95,
   "metadata": {},
   "outputs": [
    {
     "name": "stdout",
     "output_type": "stream",
     "text": [
      "Number: .001\n",
      "Number: 1000\n",
      "Number: .001\n",
      "-999999.999999\n"
     ]
    }
   ],
   "source": [
    "a = float(input(\"Number: \"))\n",
    "b = float(input(\"Number: \"))\n",
    "c = float(input(\"Number: \"))\n",
    "\n",
    "x = ((-b)-math.sqrt((b**2)-(4*a*c)))/(2*a)\n",
    "print (x)"
   ]
  },
  {
   "cell_type": "markdown",
   "metadata": {},
   "source": [
    "There is another way to write the solutions to a quadratic equation. Multiplying top and bottom of the solution above by $-b \\mp \\sqrt{b^2 - 4ac}$, show that the solutions\n",
    "can also be written as:\n",
    "\n",
    "$$x = \\frac{2c}{-b \\mp \\sqrt{b^2 - 4ac}}$$\n",
    "\n",
    "Add further lines to your program to print these values in addition to the earlier ones and again use the program to solve $0.001x^2 + 1000x + 0.001 = 0$. What do you see? How do you explain it?"
   ]
  },
  {
   "cell_type": "code",
   "execution_count": 106,
   "metadata": {},
   "outputs": [
    {
     "name": "stdout",
     "output_type": "stream",
     "text": [
      "Number: .001\n",
      "Number: 1000\n",
      "Number: .001\n",
      "-1.000000000001e-06\n"
     ]
    }
   ],
   "source": [
    "a = float(input(\"Number: \"))\n",
    "b = float(input(\"Number: \"))\n",
    "c = float(input(\"Number: \"))\n",
    "\n",
    "x =((2*c)/((-b)-(math.sqrt((b**2)-(4*a*c)))))\n",
    "print (x)"
   ]
  },
  {
   "cell_type": "markdown",
   "metadata": {},
   "source": [
    "Using what you have learned, write a new program that calculates both roots of a quadratic equation accurately in all cases."
   ]
  },
  {
   "cell_type": "code",
   "execution_count": 98,
   "metadata": {},
   "outputs": [
    {
     "name": "stdout",
     "output_type": "stream",
     "text": [
      "Number: .001\n",
      "Number: 1000\n",
      "Number: .001\n",
      "-1000010.5755125057\n"
     ]
    }
   ],
   "source": [
    "a = float(input(\"Number: \"))\n",
    "b = float(input(\"Number: \"))\n",
    "c = float(input(\"Number: \"))\n",
    "\n",
    "x = ((2*c)/((-b)+(math.sqrt((b**2)-(4*a*c)))))\n",
    "print (x)"
   ]
  },
  {
   "cell_type": "code",
   "execution_count": null,
   "metadata": {},
   "outputs": [],
   "source": []
  }
 ],
 "metadata": {
  "kernelspec": {
   "display_name": "Python 3 (ipykernel)",
   "language": "python",
   "name": "python3"
  },
  "language_info": {
   "codemirror_mode": {
    "name": "ipython",
    "version": 3
   },
   "file_extension": ".py",
   "mimetype": "text/x-python",
   "name": "python",
   "nbconvert_exporter": "python",
   "pygments_lexer": "ipython3",
   "version": "3.9.12"
  }
 },
 "nbformat": 4,
 "nbformat_minor": 4
}
