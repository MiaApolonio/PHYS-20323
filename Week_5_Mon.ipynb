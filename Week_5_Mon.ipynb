{
 "cells": [
  {
   "cell_type": "markdown",
   "metadata": {},
   "source": [
    "# Number Representation and Precision"
   ]
  },
  {
   "cell_type": "markdown",
   "metadata": {},
   "source": [
    "Real numbers are stored with a decimal precision (or mantissa) and the decimal exponent range. The mantissa contains the significant figures of the number (and thereby the precision of the number). A number like (9.90625)10 in the decimal representation is given in a binary representation by\n",
    "\n",
    "(1001.11101)$_2$ = $1\\times2^3 +0\\times2^2 +0\\times2^1 +1\\times2^0 +1\\times2^{−1} +1\\times2^{−2} +1\\times2^{−3} +0\\times2^{−4} +1 \\times 2^{−5}$\n",
    "\n",
    "and it has an exact machine number representation since we need a finite number of bits to represent this number. This representation is however not very practical. Rather, we prefer to use a scientific notation. In the decimal system we would write a number like 9.90625 in what is called the normalized scientific notation. This means simply that the decimal point is shifted and appropriate powers of 10 are supplied. Our number could then be written as\n",
    "$9.90625 = 0.990625 \\times 10^1$,\n",
    "and a real non-zero number could be generalized as\n",
    "$x = \\pm r \\times 10^n$,\n",
    "with a $r$ a number in the range $1/10 \\le r < 1$. In a similar way we can represent a binary number in\n",
    "scientific notation as\n",
    "$x = \\pm q \\times 2^m$,\n",
    "with a $q$ a number in the range $1/2 \\le q < 1$."
   ]
  },
  {
   "cell_type": "markdown",
   "metadata": {},
   "source": [
    "In a typical computer, floating-point numbers are represented in the way described above, but with certain restrictions on q and m imposed by the available word length. In the machine, our number x is represented as\n",
    "\n",
    "$x = (−1)^s \\times mantissa \\times 2^{exponent}$\n",
    "\n",
    "where $s$ is the sign bit, and the exponent gives the available range. With a single-precision word, 32 bits, 8 bits would typically be reserved for the exponent, 1 bit for the sign and 23 for the mantissa. "
   ]
  },
  {
   "cell_type": "markdown",
   "metadata": {},
   "source": [
    "## 32-bit – single precision:\n",
    "\n",
    "Sign bit: 1 bit\n",
    "\n",
    "Exponent: 8 bits\n",
    "\n",
    "Significand precision: 24 bits (23 explicitly stored)\n",
    "\n",
    "This gives 6–9 significant decimal digits precision!"
   ]
  },
  {
   "cell_type": "markdown",
   "metadata": {},
   "source": [
    "## 64-bit = double precision:\n",
    "\n",
    "Sign bit: 1 bit\n",
    "\n",
    "Exponent: 11 bits\n",
    "\n",
    "Significand precision: 53 bits (52 explicitly stored)\n",
    "\n",
    "This gives 15–17 significant decimal digits precision.\n",
    "This the the Python default standard\n"
   ]
  },
  {
   "cell_type": "markdown",
   "metadata": {},
   "source": [
    "## 128-bit = quadruple precision:\n",
    "\n",
    "Sign bit: 1 bit\n",
    "\n",
    "Exponent: 15 bits\n",
    "\n",
    "Significand precision: 113 bits (112 explicitly stored)\n",
    "\n",
    "This gives 33–36 significant decimal digits precision.\n"
   ]
  },
  {
   "cell_type": "markdown",
   "metadata": {},
   "source": [
    "## 256-bit – Octuple precision:\n",
    "\n",
    "Sign bit: 1 bit\n",
    "    \n",
    "Exponent: 19 bits\n",
    "    \n",
    "Significand precision: 237 bits (236 explicitly stored)\n",
    "\n",
    "THIS IS RARELY IMPLEMENTED\n"
   ]
  },
  {
   "cell_type": "markdown",
   "metadata": {},
   "source": [
    "# Precision effects"
   ]
  },
  {
   "cell_type": "markdown",
   "metadata": {},
   "source": [
    "One important consequence of rounding error is that you should **NEVER Use an if statment to test equality of two floats.**  For instance, you should nerev, in any program, have a statment like:"
   ]
  },
  {
   "cell_type": "code",
   "execution_count": null,
   "metadata": {},
   "outputs": [],
   "source": [
    "x = 3 * 1.1\n",
    "if x == 3.3:\n",
    "    print(x)"
   ]
  },
  {
   "cell_type": "markdown",
   "metadata": {},
   "source": [
    "If you need to do a logic trigger based on a float:"
   ]
  },
  {
   "cell_type": "code",
   "execution_count": 2,
   "metadata": {},
   "outputs": [
    {
     "ename": "NameError",
     "evalue": "name 'x' is not defined",
     "output_type": "error",
     "traceback": [
      "\u001b[1;31m---------------------------------------------------------------------------\u001b[0m",
      "\u001b[1;31mNameError\u001b[0m                                 Traceback (most recent call last)",
      "Input \u001b[1;32mIn [2]\u001b[0m, in \u001b[0;36m<cell line: 2>\u001b[1;34m()\u001b[0m\n\u001b[0;32m      1\u001b[0m epsilon \u001b[38;5;241m=\u001b[39m \u001b[38;5;241m1e-12\u001b[39m\n\u001b[1;32m----> 2\u001b[0m \u001b[38;5;28;01mif\u001b[39;00m \u001b[38;5;28mabs\u001b[39m(\u001b[43mx\u001b[49m\u001b[38;5;241m-\u001b[39m\u001b[38;5;241m3.3\u001b[39m) \u001b[38;5;241m<\u001b[39m epsilon:\n\u001b[0;32m      3\u001b[0m     \u001b[38;5;28mprint\u001b[39m(x)\n",
      "\u001b[1;31mNameError\u001b[0m: name 'x' is not defined"
     ]
    }
   ],
   "source": [
    "epsilon = 1e-12\n",
    "if abs(x-3.3) < epsilon:\n",
    "    print(x)"
   ]
  },
  {
   "cell_type": "markdown",
   "metadata": {},
   "source": [
    "## Which operations are most important in dealing with precision?\n",
    "\n",
    "__Subtraction__ and __Derivatives__"
   ]
  },
  {
   "cell_type": "markdown",
   "metadata": {},
   "source": [
    "## Subtraction\n",
    "\n",
    "a = b - c\n",
    "\n",
    "We have:   $fl(a) = fl(b) - fl(c) = a(1+\\epsilon_a)$  or\n",
    "            $fl(a) = b(1+\\epsilon_b) - c(1+\\epsilon_c)$\n",
    "            \n",
    "So, $fl(a)/a = 1 + \\epsilon_b (b/a) - \\epsilon_c (c/a)$\n",
    "\n",
    "IF $b \\sim c$, we have the potential of increased error on $fl(a)$\n",
    "\n",
    "\n",
    "If we have:\n",
    "\n",
    "$x = 1000000000000000$\n",
    "\n",
    "$y = 1000000000000001.2345678901234$\n",
    "\n",
    "as far the computer is concerned:\n",
    "    "
   ]
  },
  {
   "cell_type": "code",
   "execution_count": 3,
   "metadata": {},
   "outputs": [
    {
     "name": "stdout",
     "output_type": "stream",
     "text": [
      "1.25\n"
     ]
    }
   ],
   "source": [
    "x = 1000000000000000\n",
    "y = 1000000000000001.2345678901234\n",
    " \n",
    "print(y-x) "
   ]
  },
  {
   "cell_type": "markdown",
   "metadata": {},
   "source": [
    "**The true result should be 1.2345678901234!**\n",
    "\n",
    "In other words, instead of 16-figure accuracy we now only have three figures and the fractional error is a few percent of the true value.  This is much worse than before!\n",
    "\n",
    "\n",
    "To see another exanple of this in practice, consider two numbers:\n",
    "\n",
    "$x = 1$, and $ y = 1+10^{-14}\\sqrt 2$ \n",
    "\n",
    "Simply we can see that:\n",
    "\n",
    "$ 10^{14} (y - x) = \\sqrt 2$\n",
    "\n",
    "Let us try the same calculation in python:\n",
    " "
   ]
  },
  {
   "cell_type": "code",
   "execution_count": 12,
   "metadata": {},
   "outputs": [
    {
     "name": "stdout",
     "output_type": "stream",
     "text": [
      "1.4210854715202004\n",
      "1.4142135623730951\n"
     ]
    }
   ],
   "source": [
    "from math import sqrt\n",
    "x = 1.0\n",
    "y = 1.0 + (1e-14)*sqrt(2)\n",
    "\n",
    "print((1e14)*(y-x))\n",
    "print(sqrt(2))"
   ]
  },
  {
   "cell_type": "markdown",
   "metadata": {},
   "source": [
    "Again error off by a percent.  We need to be careful in how we code math!"
   ]
  },
  {
   "cell_type": "markdown",
   "metadata": {},
   "source": [
    "## Example 1:  Summing $1/n$ \n",
    "\n",
    "Consider the series:\n",
    "\n",
    "$$s_1 = \\sum_{n=1}^N \\frac{1}{n}$$ which is finite when N is finite, then consider\n",
    "\n",
    "$$s_2 = \\sum_{n=N}^1 \\frac{1}{n}$$ which when summed analyitically should give $s_2 = s_1$"
   ]
  },
  {
   "cell_type": "code",
   "execution_count": 16,
   "metadata": {},
   "outputs": [
    {
     "name": "stdout",
     "output_type": "stream",
     "text": [
      "18.997896413852555 18.997896413853447\n"
     ]
    }
   ],
   "source": [
    "s1, s2= 0, 0\n",
    "for n in range(1,100000001):\n",
    "    s1 = s1 + 1/n\n",
    "for m in range (100000000,0,-1):\n",
    "    s2 = s2 + 1/m\n",
    "print (s1, s2)"
   ]
  },
  {
   "cell_type": "markdown",
   "metadata": {},
   "source": [
    "## Example 2: $e^{-x}$\n",
    "\n",
    "There are three possible algorithms for $e^{-x}$\n",
    "\n",
    "1) Simple: $$e^{-x} = \\sum_{n=0}^{\\infty} (-1)^n \\; \\frac{x^n}{n!}$$  \n",
    "\n",
    "2) Recursion: $$e^{-x} = \\sum_{n=0}^{\\infty} s_n = \\sum_{n=0}^{\\infty} (-1)^n \\; \\frac{x^n}{n!}$$  where $$ S_n = -s_{n-1} \\frac{x}{n}$$\n",
    "\n",
    "3) Inverse:  $$e^{x} {\\sum_{n=0}^{\\infty} \\frac{x^n}{n!}}$$  Then take the inverse:   $$e^{-x} = \\frac{1}{e^{x}}$$\n"
   ]
  },
  {
   "cell_type": "code",
   "execution_count": 111,
   "metadata": {},
   "outputs": [
    {
     "name": "stdout",
     "output_type": "stream",
     "text": [
      "2 -2.0 2.0 7.38905609893065\n"
     ]
    }
   ],
   "source": [
    "import numpy as np \n",
    "np.exp(-1)\n",
    "\n",
    "from math import factorial\n",
    "x = 2\n",
    "def e_minusx_simple(x):\n",
    "    for n in range (1, 101):\n",
    "        emxsmp = (((-1)**n) * ((x**n/ factorial(n))))\n",
    "        return emxsmp\n",
    "def e_minusx_inverse(x):\n",
    "    for n in range (1,101):\n",
    "        emxinv = ((x**n)/factorial (n))\n",
    "        return emxinv\n",
    "# main code here\n",
    "print(x, e_minusx_simple(x),e_minusx_inverse(x),np.exp(x))"
   ]
  },
  {
   "cell_type": "code",
   "execution_count": 95,
   "metadata": {},
   "outputs": [
    {
     "ename": "IndentationError",
     "evalue": "unexpected indent (1374243556.py, line 10)",
     "output_type": "error",
     "traceback": [
      "\u001b[1;36m  Input \u001b[1;32mIn [95]\u001b[1;36m\u001b[0m\n\u001b[1;33m    emxrec = sn\u001b[0m\n\u001b[1;37m    ^\u001b[0m\n\u001b[1;31mIndentationError\u001b[0m\u001b[1;31m:\u001b[0m unexpected indent\n"
     ]
    }
   ],
   "source": [
    "def e_minusx_recurse(x):\n",
    "    s2 = 0\n",
    "    def s(x,n):\n",
    "        if n == 0:\n",
    "            return 0\n",
    "        else:\n",
    "            return -1*s(x,n-1)*(x/n)\n",
    "        \n",
    "sn = s(x,n)\n",
    "    emxrec = sn\n",
    "print (e_minusx_recurse(x))"
   ]
  },
  {
   "cell_type": "code",
   "execution_count": 96,
   "metadata": {},
   "outputs": [
    {
     "data": {
      "text/plain": [
       "0.36787944117144233"
      ]
     },
     "execution_count": 96,
     "metadata": {},
     "output_type": "execute_result"
    }
   ],
   "source": [
    "import numpy as np\n",
    "np.exp(-1) "
   ]
  },
  {
   "cell_type": "code",
   "execution_count": 91,
   "metadata": {},
   "outputs": [
    {
     "name": "stdout",
     "output_type": "stream",
     "text": [
      "-2.0\n",
      "2.0\n",
      "-1.3333333333333333\n",
      "0.6666666666666666\n",
      "-0.26666666666666666\n",
      "0.08888888888888889\n",
      "-0.025396825396825397\n",
      "0.006349206349206349\n",
      "-0.0014109347442680777\n",
      "0.0002821869488536155\n",
      "-5.130671797338464e-05\n",
      "8.551119662230774e-06\n",
      "-1.3155568711124266e-06\n",
      "1.879366958732038e-07\n",
      "-2.5058226116427174e-08\n",
      "3.132278264553397e-09\n",
      "-3.685033252415761e-10\n",
      "4.0944813915730674e-11\n",
      "-4.3099804121821765e-12\n",
      "4.3099804121821766e-13\n",
      "-4.104743249697311e-14\n",
      "3.731584772452101e-15\n",
      "-3.244856323871392e-16\n",
      "2.7040469365594935e-17\n",
      "-2.163237549247595e-18\n",
      "1.6640288840366114e-19\n",
      "-1.2326139881752676e-20\n",
      "8.80438562982334e-22\n",
      "-6.071990089533338e-23\n",
      "4.047993393022225e-24\n",
      "-2.6116086406595e-25\n",
      "1.6322554004121876e-26\n",
      "-9.892456972195077e-28\n",
      "5.819092336585339e-29\n",
      "-3.325195620905908e-30\n",
      "1.8473309005032823e-31\n",
      "-9.985572435152878e-33\n",
      "5.255564439554146e-34\n",
      "-2.6951612510534083e-35\n",
      "1.3475806255267041e-36\n",
      "-6.573564026959533e-38\n",
      "3.130268584266444e-39\n",
      "-1.4559388764029971e-40\n",
      "6.617903983649987e-42\n",
      "-2.9412906593999945e-43\n",
      "1.2788220258260844e-44\n",
      "-5.441795854579083e-46\n",
      "2.267414939407951e-47\n",
      "-9.254754854726332e-49\n",
      "3.7019019418905325e-50\n",
      "-1.4517262517217774e-51\n",
      "5.583562506622221e-53\n",
      "-2.1070047194800834e-54\n",
      "7.8037211832595685e-56\n",
      "-2.83771679391257e-57\n",
      "1.0134702835402036e-58\n",
      "-3.556036082597206e-60\n",
      "1.2262193388266227e-61\n",
      "-4.1566757248360095e-63\n",
      "1.3855585749453363e-64\n",
      "-4.542814999820775e-66\n",
      "1.4654241934905727e-67\n",
      "-4.652140296795469e-69\n",
      "1.453793842748584e-70\n",
      "-4.4732118238417967e-72\n",
      "1.3555187344975141e-73\n",
      "-4.0463245805895947e-75\n",
      "1.1900954648792925e-76\n",
      "-3.449552072113891e-78\n",
      "9.855863063182547e-80\n",
      "-2.7762994544176186e-81\n",
      "7.71194292893783e-83\n",
      "-2.1128610764213232e-84\n",
      "5.710435341679252e-86\n",
      "-1.522782757781134e-87\n",
      "4.0073230467924574e-89\n",
      "-1.0408631290370019e-90\n",
      "2.668879818043595e-92\n",
      "-6.756657767198974e-94\n",
      "1.6891644417997435e-95\n",
      "-4.1707763995055394e-97\n",
      "1.0172625364647658e-98\n",
      "-2.4512350276259415e-100\n",
      "5.836273875299861e-102\n",
      "-1.3732409118352613e-103\n",
      "3.1935835158959567e-105\n",
      "-7.341571300910245e-107\n",
      "1.6685389320250558e-108\n",
      "-3.7495256899439457e-110\n",
      "8.332279310986546e-112\n",
      "-1.8312701782388013e-113\n",
      "3.9810221266060897e-115\n",
      "-8.561337906679763e-117\n",
      "1.821561256740375e-118\n",
      "-3.834865803663948e-120\n",
      "7.989303757633224e-122\n",
      "-1.647279125285201e-123\n",
      "3.3617941332351034e-125\n",
      "-6.791503299464856e-127\n",
      "1.3583006598929712e-128\n"
     ]
    }
   ],
   "source": [
    "for n in range (1, 101):\n",
    "        x = 2\n",
    "        emxsmp = (((-1)**n) * ((x**n/ factorial(n))))\n",
    "        print (emxsmp)"
   ]
  },
  {
   "cell_type": "code",
   "execution_count": null,
   "metadata": {},
   "outputs": [],
   "source": []
  }
 ],
 "metadata": {
  "kernelspec": {
   "display_name": "Python 3 (ipykernel)",
   "language": "python",
   "name": "python3"
  },
  "language_info": {
   "codemirror_mode": {
    "name": "ipython",
    "version": 3
   },
   "file_extension": ".py",
   "mimetype": "text/x-python",
   "name": "python",
   "nbconvert_exporter": "python",
   "pygments_lexer": "ipython3",
   "version": "3.9.12"
  }
 },
 "nbformat": 4,
 "nbformat_minor": 4
}
