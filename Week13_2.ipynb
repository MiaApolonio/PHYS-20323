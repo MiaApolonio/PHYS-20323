{
 "cells": [
  {
   "cell_type": "markdown",
   "metadata": {},
   "source": [
    "# Week 13:  Object-oriented programming HW"
   ]
  },
  {
   "cell_type": "markdown",
   "metadata": {},
   "source": [
    "## Exercise 1  (from Monday's class)"
   ]
  },
  {
   "cell_type": "markdown",
   "metadata": {},
   "source": [
    "1. Write a ``Particle`` class that can be used to represent a particle with a mass, a 3-d position, and a 3-d velocity.\n",
    "\n",
    "2. Write a method that can be used to compute the kinetic energy of the particle\n",
    "\n",
    "3. Write a method that takes another particle as an argument and finds the distance between the two particles\n",
    "\n",
    "4. Write a method that given a time interval ``dt`` will update the position of the particle to the new position based on the current position and velocity.\n",
    "\n",
    "5. Write a ``ChargedParticle`` class that inherits from the ``Particle`` class, but also has an attribute for the charge of the particle.\n"
   ]
  },
  {
   "cell_type": "code",
   "execution_count": 17,
   "metadata": {},
   "outputs": [],
   "source": [
    "import numpy as np\n",
    " \n",
    "class Particle(object):\n",
    "    def __init__ (self, mass, x, y, z, vx, vy, vz):\n",
    "        self.mass = mass\n",
    "        self.x = x\n",
    "        self.y = y\n",
    "        self.z = z\n",
    "        self.vx = vx\n",
    "        self.vy = vy \n",
    "        self.vz = vz\n",
    "\n",
    "    def find_energy(self):\n",
    "        return np.sqrt ((self.vx**2 + self.vy**2 + self.vz**2))**2\n",
    "\n",
    "    def find_separation(self,other):\n",
    "        return np.sqrt((self.x - other.x)**2 + (self.y - other.y)**2 + (self.z - other.z)**2)\n",
    "   \n",
    "    def move(self, dt):\n",
    "        self.x = self.x + (self.vx*dt)\n",
    "        \n",
    "#pt = Particle(1, 2, 3, 4)\n",
    "#pt.find_energy\n",
    "\n",
    "class ChargedParticle(Particle):\n",
    "\n",
    "    def __init__(self,mass, x, y, z, vx, vy, vz, charge):\n",
    "        self.mass = mass\n",
    "        self.x = x\n",
    "        self.y = y\n",
    "        self.z = z\n",
    "        self.vx = vx\n",
    "        self.vy = vy\n",
    "        self.vz = vz\n",
    "        self.charge = charge\n"
   ]
  },
  {
   "cell_type": "markdown",
   "metadata": {},
   "source": [
    "## Exercise 2  (New)"
   ]
  },
  {
   "cell_type": "markdown",
   "metadata": {},
   "source": [
    "6. Write a method that can be used to see if a particle is in the same place (e.g., find_seperation < 0.25).  If there are two ChargedParticles in the same place make a \"simple\" (not correct physics) \"interaction\". (__have the code print \"interaction\"__).   \n",
    "\n",
    "    a. If the charges are opposite, make them \"combine\", set both velocities to zero and set their charge to zero, and print \"merge\".\n",
    "\n",
    "    b. Else, make the particles \"repel\", to do:\n",
    "    \n",
    "        multiply each \"self\" velocity and  by (-1 * (self.charge+other.charge) * (self.mass/other.mass))  \n",
    "    \n",
    "        multiply each \"other\" velocity by (-1 * (self.charge+other.charge) * (other.mass/self.mass)) \n",
    "    \n",
    "    e.g., reversing it's velocity, and print \"repel\". __(Again this is bad physics, but we are focusing on coding so play along.)__\n",
    "\n",
    "\n",
    "7. To test the above, write a code with two particles starting:\n",
    "\n",
    "        P1 at (x,y,z) = (-5,-5,-5) with (vx,vy,vz) = (1,1,1) and (charge = 0.5) \n",
    "\n",
    "        P2 at (x,y,z) = (5,5,5) with (vx,vy,vz) = (-1,-1,-1) and (charge = -0.5).  \n",
    "\n",
    "    Use your dt time interval to move the particles in 0.5 time steps for 50 steps, and print the current poition and velocity of each particle at each time step.  \n",
    "    \n",
    "\n",
    "8. To test the above, write a code with two particles starting: \n",
    "\n",
    "        P1 at (x,y,z) = (5,5,5) with (vx,vy,vz) = (2,2,2) and (charge = 0.5) \n",
    "\n",
    "        P2 at (x,y,z) = (5,5,5) with (vx,vy,vz) = (-2,-2,-2) and (charge = 2.0).  \n",
    "\n",
    "    Use your dt time interval to move the particles in 0.5 time steps for 50 steps, and print the current poition and velocity of each particle at each time step.  \n"
   ]
  },
  {
   "cell_type": "code",
   "execution_count": 18,
   "metadata": {},
   "outputs": [],
   "source": [
    "class ChargedParticle(Particle):\n",
    "\n",
    "    def __init__(other, mass, x, y, z, vx, vy, vz, charge):\n",
    "        other.mass = mass\n",
    "        other.x = x\n",
    "        other.y = y\n",
    "        other.z = z\n",
    "        other.vx = vx\n",
    "        other.vy = vy\n",
    "        other.vz = vz\n",
    "        other.charge = charge\n",
    "\n",
    "    def is_interaction (self, other):\n",
    "        if (np.sqrt((self.x - other.x)**2 + (self.y - other.y)**2 + (self.z - other.z)**2) < 0.25):\n",
    "            print ('interaction')\n",
    "            if (self.charge > 0) and (other.charge > 0):\n",
    "                print ('merge')\n",
    "            else:\n",
    "                self.vx * (-1 * (self.charge + other.charge) * (self.mass/other.mass))\n",
    "                self.vy  * (-1 * (self.charge + other.charge) * (self.mass/other.mass))\n",
    "                self.vz  * (-1 * (self.charge + other.charge) * (self.mass/other.mass))\n",
    "                other.vx * (-1 * (self.charge + other.charge) * (other.mass/self.mass))\n",
    "                other.vy *(-1 * (self.charge + other.charge) * (other.mass/self.mass))\n",
    "                other.vz * (-1 * (self.charge + other.charge) * (other.mass/self.mass))\n",
    "        \n",
    "        "
   ]
  },
  {
   "cell_type": "code",
   "execution_count": 19,
   "metadata": {},
   "outputs": [
    {
     "name": "stdout",
     "output_type": "stream",
     "text": [
      "-5 -5 -5\n",
      "17.320508075688775 2.9999999999999996\n"
     ]
    }
   ],
   "source": [
    "P1 = ChargedParticle(5,-5,-5,-5,1,1,1,-0.5)\n",
    "P2 = ChargedParticle(10,5,5,5,-1,-1,-1,0.5)\n",
    "\n",
    "print(P1.x, P1.y, P1.z)\n",
    "\n",
    "print(P1.find_separation(P2),P1.find_energy())"
   ]
  },
  {
   "cell_type": "code",
   "execution_count": 40,
   "metadata": {},
   "outputs": [
    {
     "name": "stdout",
     "output_type": "stream",
     "text": [
      "interaction\n",
      "merge\n"
     ]
    }
   ],
   "source": [
    "class ChargedParticle(Particle):\n",
    " \n",
    "    def __init__(other, mass, x, y, z, vx, vy, vz, charge):\n",
    "        other.mass = mass\n",
    "        other.x = x\n",
    "        other.y = y\n",
    "        other.z = z\n",
    "        other.vx = vx\n",
    "        other.vy = vy\n",
    "        other.vz = vz\n",
    "        other.charge = charge\n",
    "\n",
    "    def is_interaction (self, other):\n",
    "        if (np.sqrt((self.x - other.x)**2 + (self.y - other.y)**2 + (self.z - other.z)**2) < 0.25):\n",
    "            print ('interaction')\n",
    "        else:\n",
    "            if (self.charge > 0) and (other.charge > 0):\n",
    "                print ('merge')\n",
    "            else:\n",
    "                self.vx * (-1 * (self.charge + other.charge) * (self.mass/other.mass))\n",
    "                self.vy * (-1 * (self.charge + other.charge) * (self.mass/other.mass))\n",
    "                self.vz * (-1 * (self.charge + other.charge) * (self.mass/other.mass))\n",
    "                other.vx * (-1 * (self.charge + other.charge) * (other.mass/self.mass))\n",
    "                other.vy *(-1 * (self.charge + other.charge) * (other.mass/self.mass))\n",
    "                other.vz * (-1 * (self.charge + other.charge) * (other.mass/self.mass))\n",
    "                print ('repel')\n",
    "\n",
    "P1 = ChargedParticle(5,5,5,5,1,1,1,0.5)\n",
    "P2 = ChargedParticle(10,5,5,5,-1,-1,-1,-0.5)\n",
    "\n",
    "#print(P1.x, P1.y, P1.z)\n",
    "#print(P1.is_interaction(P2))\n",
    "P1.is_interaction(P2)\n",
    "\n",
    "P1 = ChargedParticle(5,-5,-5,-5,2,2,2,0.5)\n",
    "P2 = ChargedParticle(10,5,5,5,-2,2,-2,2.0)\n",
    "\n",
    "#print(P1.x, P1.y, P1.z)\n",
    "#print(P1.is_interaction(P2))\n",
    " \n",
    "P1.is_interaction(P2)"
   ]
  },
  {
   "cell_type": "code",
   "execution_count": null,
   "metadata": {},
   "outputs": [],
   "source": []
  }
 ],
 "metadata": {
  "kernelspec": {
   "display_name": "Python 3 (ipykernel)",
   "language": "python",
   "name": "python3"
  },
  "language_info": {
   "codemirror_mode": {
    "name": "ipython",
    "version": 3
   },
   "file_extension": ".py",
   "mimetype": "text/x-python",
   "name": "python",
   "nbconvert_exporter": "python",
   "pygments_lexer": "ipython3",
   "version": "3.9.12"
  }
 },
 "nbformat": 4,
 "nbformat_minor": 2
}
